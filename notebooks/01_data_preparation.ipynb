{
    "cells": [
     {
      "cell_type": "code",
      "execution_count": null,
      "metadata": {},
      "outputs": [],
      "source": [
       "import pandas as pd\n",
        "import torch\n",
       "from transformers import RobertaTokenizer\n",
       "\n",
       "# Load job posting data\n",
       "data_path = \"../data/jobs_data.csv\"\n",
       "df = pd.read_csv(data_path,quoting=3, error_bad_lines=False)\n",
       "\n",
       "# Initialize tokenizer\n",
       "tokenizer = RobertaTokenizer.from_pretrained(\"roberta-base\")\n",
       "\n",
       "# Define function to tokenize and encode job postings\n",
       "def tokenize_postings(texts):\n",
       "    input_ids = []\n",
       "    attention_masks = []\n",
       "\n",
       "    for text in texts:\n",
       "        encoded_dict = tokenizer.encode_plus(\n",
       "                            text,                      # Job posting text to encode\n",
       "                            add_special_tokens = True,  # Add '[CLS]' and '[SEP]'\n",
       "                            max_length = 512,           # Pad or truncate to this length\n",
       "                            pad_to_max_length = True,\n",
       "                            return_attention_mask = True,   # Construct attn. masks\n",
       "                            return_tensors = 'pt',      # Return PyTorch tensors\n",
       "                       )\n",
       "        \n",
       "        input_ids.append(encoded_dict['input_ids'])\n",
       "        attention_masks.append(encoded_dict['attention_mask'])\n",
       "    \n",
       "    return input_ids, attention_masks\n",
       "\n",
       "# Tokenize and encode job postings\n",
       "input_ids, attention_masks = tokenize_postings(df['text'].tolist())\n",
       "\n",
       "# Save tokenized data\n",
       "output_path = \"../data/tokenized_data.pt\"\n",
       "torch.save((input_ids, attention_masks), output_path)\n"
      ]
     }
    ],
    "metadata": {
     "kernelspec": {
      "display_name": "Python 3",
      "language": "python",
      "name": "python3"
     },
     "language_info": {
      "codemirror_mode": {
       "name": "ipython",
       "version": 3
      },
      "file_extension": ".py",
      "mimetype": "text/x-python",
      "name": "python",
      "nbconvert_exporter": "python",
      "pygments_lexer": "ipython3",
      "version": "3.7.10"
     }
    },
    "nbformat": 4,
    "nbformat_minor": 4
   }
   
